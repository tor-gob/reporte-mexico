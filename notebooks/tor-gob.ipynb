{
 "cells": [
  {
   "cell_type": "markdown",
   "id": "e5a3c1ef-5d09-43e8-8294-0ddf904ba458",
   "metadata": {},
   "source": [
    "# tor-gob\n",
    "## Resumen de pruebas con Tor usando federal.csv"
   ]
  },
  {
   "cell_type": "markdown",
   "id": "095ad783-b8c7-46b6-8271-eebd68ba35c2",
   "metadata": {},
   "source": [
    "### Última actualización: "
   ]
  },
  {
   "cell_type": "code",
   "execution_count": 1,
   "id": "097bc401-3676-476e-a9a1-2c50926a7e4c",
   "metadata": {
    "jupyter": {
     "source_hidden": true
    }
   },
   "outputs": [
    {
     "name": "stdout",
     "output_type": "stream",
     "text": [
      "09-10-2023\n"
     ]
    }
   ],
   "source": [
    "from datetime import datetime\n",
    "print(datetime.now().strftime(\"%d-%m-%Y\"))"
   ]
  },
  {
   "cell_type": "markdown",
   "id": "0fef178c-88c1-4feb-b412-525bf6ff2cd0",
   "metadata": {},
   "source": [
    "### Carga los datasets"
   ]
  },
  {
   "cell_type": "code",
   "execution_count": 2,
   "id": "92ebbc27-c18a-4a6e-9437-7e8a24493275",
   "metadata": {},
   "outputs": [
    {
     "name": "stdout",
     "output_type": "stream",
     "text": [
      "../datos/tor-gob.csv : 11 columnas, 201106 filas\n"
     ]
    }
   ],
   "source": [
    "import os\n",
    "import pandas\n",
    "import tldextract\n",
    "\n",
    "# tor-gob.csv\n",
    "\n",
    "csv_file = '../datos/tor-gob.csv'\n",
    "\n",
    "#  date~time~request_type~csv_name~http_code~url~html_title~agent_ip~agent_country~asn~command_result\n",
    "csv_types = {'date': 'string',\n",
    "             'time': 'string',\n",
    "             'request_type': 'string',\n",
    "             'csv_name': 'string',\n",
    "             'http_code': 'Int16',\n",
    "             'url': 'string',\n",
    "             'html_title': 'string', \n",
    "             'agent_ip': 'string',\n",
    "             'agent_country': 'string',\n",
    "             'asn': 'string',\n",
    "             'command_result': 'Int16'}\n",
    "\n",
    "df = pandas.read_csv(\n",
    "        csv_file,\n",
    "        sep=r\"~\",\n",
    "        lineterminator='\\n',\n",
    "        encoding=\"latin-1\",\n",
    "        dtype=csv_types)\n",
    "\n",
    "rows, cols = df.shape\n",
    "print(csv_file, \":\", cols, \"columnas,\", rows, \"filas\")"
   ]
  },
  {
   "cell_type": "markdown",
   "id": "4548ba73-0856-4900-a6cb-96d70b05a21f",
   "metadata": {},
   "source": [
    "### Interpretación de los códigos de respuesta HTTP"
   ]
  },
  {
   "cell_type": "markdown",
   "id": "24ff555a-208a-4125-ba24-7c3829ae7a38",
   "metadata": {},
   "source": [
    "- Anomalías (0, -1).\n",
    "- Respuestas satisfactorias (200).\n",
    "- Redirecciones (300, 301, 302).\n",
    "- Peticiones malformadas o mal estructuradas (400).\n",
    "- Respuestas no autorizadas (401).\n",
    "- Peticiones denegadas, prohibidas o rechazadas (403).\n",
    "- Recurso no encontrado (404).\n",
    "- Errores del servidor (500, 502, 503)."
   ]
  },
  {
   "cell_type": "markdown",
   "id": "839bb204-29d6-4a71-8753-5e6a4a8a8d8f",
   "metadata": {},
   "source": [
    "Para éste análisis se considerarán como `bloqueadas` aquellas peticiones que formen parte de las categorías `no_autorizadas` y `denegadas`."
   ]
  },
  {
   "cell_type": "markdown",
   "id": "0c0d6843-46c8-4597-ac64-dbff8dcf87ff",
   "metadata": {},
   "source": [
    "bloqueadas = no_autorizadas + denegadas\n",
    "normales = satisfactorias + redirecciones"
   ]
  },
  {
   "cell_type": "code",
   "execution_count": 3,
   "id": "6352a779-9ec9-415d-abd3-0ed1951a0bb7",
   "metadata": {
    "jupyter": {
     "source_hidden": true
    }
   },
   "outputs": [],
   "source": [
    "anomalias = [0, -1]\n",
    "satisfactorias = [200]\n",
    "redirecciones = [300, 301, 302]\n",
    "malformadas = [400]\n",
    "no_autorizadas = [401]\n",
    "denegadas = [403]\n",
    "no_encontradas = [404]\n",
    "error_de_servidor = [500, 502, 503]\n",
    "\n",
    "bloqueadas = no_autorizadas + denegadas\n",
    "accesibles = satisfactorias + redirecciones"
   ]
  },
  {
   "cell_type": "markdown",
   "id": "03ecfd50-a8ee-49e8-b61d-df47132aac2e",
   "metadata": {},
   "source": [
    "### URLs bloqueadas a la red Tor"
   ]
  },
  {
   "cell_type": "code",
   "execution_count": 4,
   "id": "545e7116-f963-4078-a03d-9dbc3087fc04",
   "metadata": {},
   "outputs": [
    {
     "name": "stdout",
     "output_type": "stream",
     "text": [
      "39 URLs bloqueadas de 217 probadas\n",
      "\n",
      "18% de bloqueo.\n",
      "\n"
     ]
    },
    {
     "data": {
      "image/png": "[encoded data removed]",
      "text/plain": [
       "<Figure size 600x400 with 1 Axes>"
      ]
     },
     "metadata": {},
     "output_type": "display_data"
    }
   ],
   "source": [
    "urls_probadas = df.url.unique()\n",
    "cantidad_de_urls_probadas = len(urls_probadas)\n",
    "urls_bloqueadas = sorted(set(df.filter(['http_code', 'url']).query(\"http_code in \" + str(bloqueadas)).url))\n",
    "urls_normales = sorted(set(df.filter(['http_code', 'url']).query(\"http_code in \" + str(accesibles)).url))\n",
    "\n",
    "urls_bloqueadas_porcentaje = \"{0:.0%}\".format(len(urls_bloqueadas)/cantidad_de_urls_probadas)\n",
    "print( len(urls_bloqueadas), \"URLs bloqueadas de\", cantidad_de_urls_probadas, \"probadas\\n\")\n",
    "\n",
    "print(urls_bloqueadas_porcentaje, \"de bloqueo.\\n\")\n",
    "\n",
    "# torificadas \n",
    "tor_urls_bloqueadas = sorted(set(\n",
    "    df.filter(\n",
    "        ['request_type', 'http_code', 'url']\n",
    "    ).query(\n",
    "        \"request_type == 'torified' and \" \\\n",
    "        \"http_code in \" + str(bloqueadas)        \n",
    "    ).url))\n",
    "\n",
    "tor_urls_normales = sorted(set(\n",
    "    df.filter(\n",
    "        ['request_type', 'http_code', 'url']\n",
    "    ).query(\n",
    "        \"request_type == 'torified' and \" \\\n",
    "        \"http_code in \" + str(accesibles)\n",
    "    ).url))\n",
    "\n",
    "url_df = pandas.DataFrame({'Bloqueadas':\n",
    "                            [len(tor_urls_bloqueadas) ],\n",
    "                           'Accesibles':\n",
    "                            [ len(tor_urls_normales) ]\n",
    "                          },\n",
    "                          index=['URLs'])\n",
    "\n",
    "plot = url_df.plot.bar(\n",
    "    y=['Bloqueadas', 'Accesibles' ],\n",
    "    figsize=(6, 4),\n",
    "    rot=0,\n",
    "    colormap='Set1',\n",
    "    width=1\n",
    ")"
   ]
  },
  {
   "cell_type": "code",
   "execution_count": 5,
   "id": "0cb6a643-5ebf-416c-8dfd-67f7062db9cc",
   "metadata": {},
   "outputs": [
    {
     "data": {
      "image/png": "[encoded data removed]",
      "text/plain": [
       "<Figure size 500x500 with 1 Axes>"
      ]
     },
     "metadata": {},
     "output_type": "display_data"
    }
   ],
   "source": [
    "url_df = pandas.DataFrame({'gob.mx': [len(urls_bloqueadas), len(urls_normales)]}, index=['Bloqueadas (18%)', 'Accesibles (82%)'])\n",
    "plot = url_df.plot.pie(y='gob.mx', figsize=(5, 5), colormap='Set1', ylabel='', legend=False,)"
   ]
  }
 ],
 "metadata": {
  "kernelspec": {
   "display_name": "Python 3 (ipykernel)",
   "language": "python",
   "name": "python3"
  },
  "language_info": {
   "codemirror_mode": {
    "name": "ipython",
    "version": 3
   },
   "file_extension": ".py",
   "mimetype": "text/x-python",
   "name": "python",
   "nbconvert_exporter": "python",
   "pygments_lexer": "ipython3",
   "version": "3.11.5"
  }
 },
 "nbformat": 4,
 "nbformat_minor": 5
}
